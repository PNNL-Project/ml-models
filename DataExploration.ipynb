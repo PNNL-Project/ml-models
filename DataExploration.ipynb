{
 "cells": [
  {
   "cell_type": "markdown",
   "metadata": {},
   "source": [
    "# Data Exploration for VOLTTRON Data"
   ]
  },
  {
   "cell_type": "code",
   "execution_count": 4,
   "metadata": {},
   "outputs": [],
   "source": [
    "import pandas as pd\n",
    "import numpy\n",
    "import methods.DataExploration as de"
   ]
  },
  {
   "cell_type": "code",
   "execution_count": 5,
   "metadata": {},
   "outputs": [],
   "source": [
    "df = pd.read_csv(\"data/seb/seb.processed/seb_processed_data.csv\")"
   ]
  },
  {
   "cell_type": "markdown",
   "metadata": {},
   "source": [
    "### Number of Total Columns"
   ]
  },
  {
   "cell_type": "code",
   "execution_count": 9,
   "metadata": {},
   "outputs": [
    {
     "data": {
      "text/plain": [
       "231"
      ]
     },
     "execution_count": 9,
     "metadata": {},
     "output_type": "execute_result"
    }
   ],
   "source": [
    "len(df.columns)"
   ]
  },
  {
   "cell_type": "code",
   "execution_count": 12,
   "metadata": {},
   "outputs": [
    {
     "data": {
      "text/plain": [
       "<AxesSubplot:>"
      ]
     },
     "execution_count": 12,
     "metadata": {},
     "output_type": "execute_result"
    },
    {
     "data": {
      "image/png": "[encoded data removed]",
      "text/plain": [
       "<Figure size 432x288 with 1 Axes>"
      ]
     },
     "metadata": {
      "needs_background": "light"
     },
     "output_type": "display_data"
    }
   ],
   "source": [
    "zone_temp_df = df.filter(regex='ZoneTemperature.csv$')\n",
    "zone_temp_df.boxplot()\n"
   ]
  },
  {
   "cell_type": "code",
   "execution_count": 21,
   "metadata": {},
   "outputs": [
    {
     "data": {
      "text/plain": [
       "['AHU1: VAV120/ZoneAirFlow.csv',\n",
       " 'AHU1: VAV121_THRESHOLDS/ZoneReheatAirFlow.csv',\n",
       " 'AHU1: VAV142_THRESHOLDS/ZoneAirFlowSetPointOffset.csv',\n",
       " 'AHU1: VAV102/ZoneCoolingAirFlowSetPoint.csv',\n",
       " 'AHU1: VAV119/ZoneCoolingAirFlowSetPoint.csv',\n",
       " 'AHU1: VAV143_THRESHOLDS/ZoneReheatAirFlow.csv',\n",
       " 'AHU1: VAV150/ZoneTemperature.csv',\n",
       " 'AHU1: VAV118/ZoneAirFlow.csv',\n",
       " 'AHU1: VAV142/ZoneAirFlow.csv',\n",
       " 'AHU1: VAV133_THRESHOLDS/MinimumZoneAirFlow.csv',\n",
       " 'AHU1: VAV121/ZoneCoolingTemperatureSetPoint.csv',\n",
       " 'AHU1: VAV123B_THRESHOLDS/MinimumZoneAirFlow.csv',\n",
       " 'AHU1: VAV100/ZoneAirFlow.csv',\n",
       " 'AHU1: VAV127A_THRESHOLDS/MaximumZoneAirFlow.csv',\n",
       " 'AHU1: VAV133/ZoneAirFlow.csv',\n",
       " 'AHU1: VAV143/ZoneCoolingTemperatureSetPoint.csv',\n",
       " 'AHU1: VAV100/ZoneCoolingAirFlowSetPoint.csv',\n",
       " 'AHU1: VAV150_THRESHOLDS/MinimumZoneAirFlow.csv',\n",
       " 'AHU1: VAV150_THRESHOLDS/MaximumZoneAirFlow.csv',\n",
       " 'AHU1: VAV118_THRESHOLDS/ZoneReheatAirFlow.csv',\n",
       " 'AHU1: ExhaustAirFlowSetPoint.csv',\n",
       " 'AHU1: VAV118_THRESHOLDS/ZoneAirFlowSetPointOffset.csv',\n",
       " 'AHU1: VAV127A/ZoneCoolingTemperatureSetPoint.csv',\n",
       " 'AHU1: DischargeAirFlow.csv',\n",
       " 'AHU1: VAV136_THRESHOLDS/MaximumZoneAirFlow.csv',\n",
       " 'AHU1: VAV136_THRESHOLDS/ZoneReheatAirFlow.csv',\n",
       " 'AHU1: VAV119_THRESHOLDS/ZoneReheatAirFlow.csv',\n",
       " 'AHU1: VAV119/ZoneTemperature.csv',\n",
       " 'AHU1: VAV119_THRESHOLDS/MaximumZoneAirFlow.csv',\n",
       " 'AHU1: VAV127A_THRESHOLDS/ZoneReheatAirFlow.csv',\n",
       " 'AHU1: VAV121_THRESHOLDS/MaximumZoneAirFlow.csv',\n",
       " 'AHU1: VAV102_THRESHOLDS/MaximumZoneAirFlow.csv',\n",
       " 'AHU1: VAV127A/ZoneCoolingAirFlowSetPoint.csv',\n",
       " 'AHU1: VAV127B_THRESHOLDS/ZoneReheatAirFlow.csv',\n",
       " 'AHU1: VAV127A/ZoneAirFlow.csv',\n",
       " 'AHU1: VAV142/ZoneHeatingTemperatureSetPoint.csv',\n",
       " 'AHU1: VAV118/ZoneTemperature.csv',\n",
       " 'AHU1: VAV123A_THRESHOLDS/ZoneAirFlowSetPointOffset.csv',\n",
       " 'AHU1: VAV123A_THRESHOLDS/MinimumZoneAirFlow.csv',\n",
       " 'AHU1: VAV121/ZoneHeatingTemperatureSetPoint.csv',\n",
       " 'AHU1: VAV133_THRESHOLDS/MaximumZoneAirFlow.csv',\n",
       " 'AHU1: VAV136_THRESHOLDS/MinimumZoneAirFlow.csv',\n",
       " 'AHU1: VAV119/ZoneAirFlow.csv',\n",
       " 'AHU1: VAV100/ZoneTemperature.csv',\n",
       " 'AHU1: VAV102_THRESHOLDS/MinimumZoneAirFlow.csv',\n",
       " 'AHU1: VAV131_THRESHOLDS/ZoneReheatAirFlow.csv',\n",
       " 'AHU1: VAV100_THRESHOLDS/ZoneAirFlowSetPointOffset.csv',\n",
       " 'AHU1: VAV118/ZoneCoolingAirFlowSetPoint.csv',\n",
       " 'AHU1: VAV123B/ZoneAirFlow.csv',\n",
       " 'AHU1: VAV123A/ZoneHeatingTemperatureSetPoint.csv',\n",
       " 'AHU1: VAV131/ZoneAirFlow.csv',\n",
       " 'AHU1: VAV120_THRESHOLDS/ZoneReheatAirFlow.csv',\n",
       " 'AHU1: VAV136/ZoneCoolingTemperatureSetPoint.csv',\n",
       " 'AHU1: VAV133/ZoneTemperature.csv',\n",
       " 'AHU1: VAV120/ZoneTemperature.csv',\n",
       " 'AHU1: VAV127B/ZoneCoolingTemperatureSetPoint.csv',\n",
       " 'AHU1: VAV102_THRESHOLDS/ZoneReheatAirFlow.csv',\n",
       " 'AHU1: VAV127B/ZoneHeatingTemperatureSetPoint.csv',\n",
       " 'AHU1: VAV150/ZoneAirFlow.csv',\n",
       " 'AHU1: VAV131/ZoneCoolingAirFlowSetPoint.csv',\n",
       " 'AHU1: VAV133_THRESHOLDS/ZoneAirFlowSetPointOffset.csv',\n",
       " 'AHU1: VAV100/ZoneCoolingTemperatureSetPoint.csv',\n",
       " 'AHU1: VAV127A_THRESHOLDS/ZoneAirFlowSetPointOffset.csv',\n",
       " 'AHU1: VAV118_THRESHOLDS/MaximumZoneAirFlow.csv',\n",
       " 'AHU1: VAV133/ZoneHeatingTemperatureSetPoint.csv',\n",
       " 'AHU1: VAV100/ZoneHeatingTemperatureSetPoint.csv',\n",
       " 'AHU1: VAV129_THRESHOLDS/MinimumZoneAirFlow.csv',\n",
       " 'AHU1: VAV142_THRESHOLDS/ZoneReheatAirFlow.csv',\n",
       " 'AHU1: VAV129_THRESHOLDS/MaximumZoneAirFlow.csv',\n",
       " 'AHU1: VAV123A/ZoneTemperature.csv',\n",
       " 'AHU1: VAV123B/ZoneCoolingAirFlowSetPoint.csv',\n",
       " 'AHU1: VAV136/ZoneCoolingAirFlowSetPoint.csv',\n",
       " 'AHU1: VAV100_THRESHOLDS/MinimumZoneAirFlow.csv',\n",
       " 'AHU1: VAV119/ZoneCoolingTemperatureSetPoint.csv',\n",
       " 'AHU1: VAV127A_THRESHOLDS/MinimumZoneAirFlow.csv',\n",
       " 'AHU1: VAV123A_THRESHOLDS/MaximumZoneAirFlow.csv',\n",
       " 'AHU1: VAV136/ZoneAirFlow.csv',\n",
       " 'AHU1: VAV121/ZoneCoolingAirFlowSetPoint.csv',\n",
       " 'AHU1: VAV123A/ZoneCoolingTemperatureSetPoint.csv',\n",
       " 'AHU1: VAV102/ZoneAirFlow.csv',\n",
       " 'AHU1: VAV118/ZoneCoolingTemperatureSetPoint.csv',\n",
       " 'AHU1: VAV118/ZoneHeatingTemperatureSetPoint.csv',\n",
       " 'AHU1: VAV142_THRESHOLDS/MaximumZoneAirFlow.csv',\n",
       " 'AHU1: VAV136/ZoneHeatingTemperatureSetPoint.csv',\n",
       " 'AHU1: VAV123A/ZoneCoolingAirFlowSetPoint.csv',\n",
       " 'AHU1: VAV133/ZoneCoolingAirFlowSetPoint.csv',\n",
       " 'AHU1: VAV102/ZoneHeatingTemperatureSetPoint.csv',\n",
       " 'AHU1: VAV120_THRESHOLDS/MaximumZoneAirFlow.csv',\n",
       " 'AHU1: VAV133_THRESHOLDS/ZoneReheatAirFlow.csv',\n",
       " 'AHU1: OutdoorAirFlow.csv',\n",
       " 'AHU1: VAV102/ZoneCoolingTemperatureSetPoint.csv',\n",
       " 'AHU1: VAV150/ZoneHeatingTemperatureSetPoint.csv',\n",
       " 'AHU1: VAV118_THRESHOLDS/MinimumZoneAirFlow.csv',\n",
       " 'AHU1: VAV102/ZoneTemperature.csv',\n",
       " 'AHU1: VAV133/ZoneCoolingTemperatureSetPoint.csv',\n",
       " 'AHU1: VAV150_THRESHOLDS/ZoneReheatAirFlow.csv',\n",
       " 'AHU1: VAV121/ZoneTemperature.csv',\n",
       " 'AHU1: VAV127B_THRESHOLDS/MinimumZoneAirFlow.csv',\n",
       " 'AHU1: VAV129/ZoneCoolingAirFlowSetPoint.csv',\n",
       " 'AHU1: VAV127B/ZoneTemperature.csv',\n",
       " 'AHU1: VAV129/ZoneCoolingTemperatureSetPoint.csv',\n",
       " 'AHU1: VAV150/ZoneCoolingAirFlowSetPoint.csv',\n",
       " 'AHU1: VAV127A/ZoneHeatingTemperatureSetPoint.csv',\n",
       " 'AHU1: VAV121/ZoneAirFlow.csv',\n",
       " 'AHU1: VAV127B/ZoneCoolingAirFlowSetPoint.csv',\n",
       " 'AHU1: VAV129/ZoneTemperature.csv',\n",
       " 'AHU1: VAV136/ZoneTemperature.csv',\n",
       " 'AHU1: VAV143_THRESHOLDS/MaximumZoneAirFlow.csv',\n",
       " 'AHU1: VAV123A_THRESHOLDS/ZoneReheatAirFlow.csv',\n",
       " 'AHU1: VAV143/ZoneCoolingAirFlowSetPoint.csv',\n",
       " 'AHU1: VAV143/ZoneTemperature.csv',\n",
       " 'AHU1: VAV123A/ZoneAirFlow.csv',\n",
       " 'AHU1: VAV121_THRESHOLDS/MinimumZoneAirFlow.csv',\n",
       " 'AHU1: VAV127B_THRESHOLDS/ZoneAirFlowSetPointOffset.csv',\n",
       " 'AHU1: VAV127B/ZoneAirFlow.csv',\n",
       " 'AHU1: VAV131/ZoneCoolingTemperatureSetPoint.csv',\n",
       " 'AHU1: VAV102_THRESHOLDS/ZoneAirFlowSetPointOffset.csv',\n",
       " 'AHU1: VAV123B_THRESHOLDS/ZoneReheatAirFlow.csv',\n",
       " 'AHU1: VAV142_THRESHOLDS/MinimumZoneAirFlow.csv',\n",
       " 'AHU1: VAV119/ZoneHeatingTemperatureSetPoint.csv',\n",
       " 'AHU1: VAV143_THRESHOLDS/MinimumZoneAirFlow.csv',\n",
       " 'AHU1: VAV131/ZoneTemperature.csv',\n",
       " 'AHU1: VAV123B_THRESHOLDS/MaximumZoneAirFlow.csv',\n",
       " 'AHU1: VAV150/ZoneCoolingTemperatureSetPoint.csv',\n",
       " 'AHU1: VAV100_THRESHOLDS/MaximumZoneAirFlow.csv',\n",
       " 'AHU1: VAV129/ZoneAirFlow.csv',\n",
       " 'AHU1: VAV120_THRESHOLDS/MinimumZoneAirFlow.csv',\n",
       " 'AHU1: VAV143/ZoneAirFlow.csv',\n",
       " 'AHU1: VAV131/ZoneHeatingTemperatureSetPoint.csv',\n",
       " 'AHU1: VAV120/ZoneHeatingTemperatureSetPoint.csv',\n",
       " 'AHU1: VAV129/ZoneHeatingTemperatureSetPoint.csv',\n",
       " 'AHU1: VAV131_THRESHOLDS/MaximumZoneAirFlow.csv',\n",
       " 'AHU1: VAV143/ZoneHeatingTemperatureSetPoint.csv',\n",
       " 'AHU1: VAV129_THRESHOLDS/ZoneReheatAirFlow.csv',\n",
       " 'AHU1: VAV142/ZoneCoolingTemperatureSetPoint.csv',\n",
       " 'AHU1: VAV120/ZoneCoolingAirFlowSetPoint.csv',\n",
       " 'AHU1: VAV127A/ZoneTemperature.csv',\n",
       " 'AHU1: VAV127B_THRESHOLDS/MaximumZoneAirFlow.csv',\n",
       " 'AHU1: VAV119_THRESHOLDS/MinimumZoneAirFlow.csv',\n",
       " 'AHU1: VAV120/ZoneCoolingTemperatureSetPoint.csv',\n",
       " 'AHU1: VAV142/ZoneTemperature.csv',\n",
       " 'AHU1: VAV142/ZoneCoolingAirFlowSetPoint.csv',\n",
       " 'AHU1: VAV100_THRESHOLDS/ZoneReheatAirFlow.csv',\n",
       " 'AHU1: VAV131_THRESHOLDS/MinimumZoneAirFlow.csv']"
      ]
     },
     "execution_count": 21,
     "metadata": {},
     "output_type": "execute_result"
    }
   ],
   "source": []
  },
  {
   "cell_type": "code",
   "execution_count": null,
   "metadata": {},
   "outputs": [],
   "source": []
  }
 ],
 "metadata": {
  "kernelspec": {
   "display_name": "Python 3",
   "language": "python",
   "name": "python3"
  },
  "language_info": {
   "codemirror_mode": {
    "name": "ipython",
    "version": 3
   },
   "file_extension": ".py",
   "mimetype": "text/x-python",
   "name": "python",
   "nbconvert_exporter": "python",
   "pygments_lexer": "ipython3",
   "version": "3.8.5"
  }
 },
 "nbformat": 4,
 "nbformat_minor": 4
}
